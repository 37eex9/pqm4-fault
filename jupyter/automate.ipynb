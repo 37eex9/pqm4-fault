{
 "cells": [
  {
   "cell_type": "code",
   "execution_count": null,
   "metadata": {},
   "outputs": [],
   "source": [
    "# # variables which will be set to default values if not set\n",
    "# m4f           [False] m4f or opt implementation switch\n",
    "# adv           [False] use advanced trigger_high\n",
    "# fisher        [False] target fisher_yates sampling or set_bits\n",
    "# loop          [0] target loop {0,1,2}\n",
    "# lp_fct        [0] loop factor: determines highes external offset\n",
    "# sample_size   [2] how many samples per glitch setting\n",
    "# step          [lp_cy] step through glitch settings, defaults to lp_cy\n",
    "# repeat        [1] how many glitches to inject consecutively\n",
    "# trig_src      [\"ext_continuous\"] or \"ext_single\n",
    "# spot          choose one width/offset spot, default iterate through all 10 spots\n",
    "\n",
    "# # optional variables\n",
    "# base_off -> e_off_low and e_off_up will be calculated\n",
    "# w and o:                  choose given width/offset\n",
    "# e_off_low and e_off_up:   can be set if base_off is not set\n",
    "\n",
    "lp_fct = 6\n",
    "sample_size = 2\n",
    "step = 1\n",
    "m4f = True\n",
    "fisher = True"
   ]
  },
  {
   "cell_type": "code",
   "execution_count": null,
   "metadata": {},
   "outputs": [],
   "source": [
    "for loop in range(3)[:]:\n",
    "    %run \"Fault.ipynb\""
   ]
  },
  {
   "cell_type": "code",
   "execution_count": null,
   "metadata": {},
   "outputs": [],
   "source": [
    "# # variables which will be set to default values if not set\n",
    "# m4f           [False] m4f or opt implementation switch\n",
    "# adv           [False] use advanced trigger_high\n",
    "# fisher        [False] target fisher_yates sampling or set_bits\n",
    "# loop          [0] target loop {0,1,2}\n",
    "# thr           [5] threshold of minimum amount of keys for one base external offset\n",
    "# max_dev       [0] maximum allowed standard deviation, if high base offset group will be examined in external offset groups (without mod lp_cy)\n",
    "\n",
    "m4f = False\n",
    "fisher = True\n",
    "loop = 1\n",
    "thr = 0\n",
    "# ff = \"current\"\n",
    "# max_dev = 13\n",
    "%run \"Key Analysis.ipynb\""
   ]
  }
 ],
 "metadata": {
  "kernelspec": {
   "display_name": "cw",
   "language": "python",
   "name": "python3"
  },
  "language_info": {
   "codemirror_mode": {
    "name": "ipython",
    "version": 3
   },
   "file_extension": ".py",
   "mimetype": "text/x-python",
   "name": "python",
   "nbconvert_exporter": "python",
   "pygments_lexer": "ipython3",
   "version": "3.11.2"
  }
 },
 "nbformat": 4,
 "nbformat_minor": 2
}
