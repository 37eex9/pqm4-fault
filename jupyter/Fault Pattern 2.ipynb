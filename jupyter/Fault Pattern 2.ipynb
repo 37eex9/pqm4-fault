{
 "cells": [
  {
   "cell_type": "markdown",
   "metadata": {},
   "source": [
    "# Fault Pattern 2\n",
    "Move $err$ many random bits to the beginning of $h$. Index list and binary vector are consistent."
   ]
  },
  {
   "cell_type": "code",
   "execution_count": null,
   "metadata": {},
   "outputs": [],
   "source": [
    "adv         = True\n",
    "fisher      = True\n",
    "trig_src    = \"ext_continuous\"\n",
    "loop        = 0\n",
    "flash       = False\n",
    "sample_size = 1000"
   ]
  },
  {
   "cell_type": "markdown",
   "metadata": {},
   "source": [
    "## Config\n",
    "\n",
    "Use one of the blocks below to decide which firmware you target. For some of the configurations different \"spots\" are available and the number of glitches can be changed with the `glitch_h0` and `glitch_h1` variables, the rest should be left unchanged for reproducible results."
   ]
  },
  {
   "cell_type": "code",
   "execution_count": null,
   "metadata": {},
   "outputs": [],
   "source": [
    "# this messes with the prf. Only works if the prf is not yet initalized and prevents initilization.\n",
    "m4f         = False\n",
    "glitch_h0   = 1\n",
    "glitch_h1   = 0\n",
    "spot        = 1 # {1,2}\n",
    "base_off    = 29"
   ]
  },
  {
   "cell_type": "code",
   "execution_count": null,
   "metadata": {},
   "outputs": [],
   "source": [
    "m4f         = True\n",
    "glitch_h0   = 71\n",
    "glitch_h1   = 71\n",
    "spot        = 1 # {1,2,9}\n",
    "base_off    = 80\n",
    "sample_size = 10"
   ]
  },
  {
   "cell_type": "code",
   "execution_count": null,
   "metadata": {},
   "outputs": [],
   "source": [
    "m4f         = True\n",
    "glitch_h0   = 0\n",
    "glitch_h1   = 43\n",
    "spot        = 1 # {1,2}\n",
    "base_off    = 19"
   ]
  },
  {
   "cell_type": "markdown",
   "metadata": {},
   "source": [
    "# Run Attack"
   ]
  },
  {
   "cell_type": "code",
   "execution_count": null,
   "metadata": {},
   "outputs": [],
   "source": [
    "%run \"Fault.ipynb\"\n",
    "flash = False"
   ]
  },
  {
   "cell_type": "code",
   "execution_count": null,
   "metadata": {},
   "outputs": [],
   "source": [
    "ff = \"current\"\n",
    "%run \"Key Analysis.ipynb\""
   ]
  },
  {
   "cell_type": "code",
   "execution_count": null,
   "metadata": {},
   "outputs": [],
   "source": [
    "# export into file\n",
    "with open(f\"../eo_{base_off}_h0_{glitch_h0}_h1_{glitch_h1}_kw43.txt\", 'a') as file:\n",
    "    for s,k in sel:\n",
    "        file.write(f\"{k.mupq_key.hex()}\\n\")"
   ]
  },
  {
   "cell_type": "code",
   "execution_count": null,
   "metadata": {},
   "outputs": [],
   "source": [
    "for _ in range(5):\n",
    "    print(\"start next round\")\n",
    "    %run \"Fault.ipynb\"\n",
    "    # flash = False\n",
    "    ff = \"current\"\n",
    "    %run \"Key Analysis.ipynb\"\n",
    "    # export into file\n",
    "    with open(f\"../eo_{base_off}_h0_{glitch_h0}_h1_{glitch_h1}_kw43.1.txt\", 'a') as file:\n",
    "        for s,k in sel:\n",
    "            file.write(f\"{k.mupq_key.hex()}\\n\")"
   ]
  }
 ],
 "metadata": {
  "kernelspec": {
   "display_name": "cw",
   "language": "python",
   "name": "python3"
  },
  "language_info": {
   "codemirror_mode": {
    "name": "ipython",
    "version": 3
   },
   "file_extension": ".py",
   "mimetype": "text/x-python",
   "name": "python",
   "nbconvert_exporter": "python",
   "pygments_lexer": "ipython3",
   "version": "3.11.2"
  }
 },
 "nbformat": 4,
 "nbformat_minor": 2
}
