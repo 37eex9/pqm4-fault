{
 "cells": [
  {
   "cell_type": "code",
   "execution_count": null,
   "metadata": {},
   "outputs": [],
   "source": [
    "import sys\n",
    "import serial\n",
    "\n",
    "new_path = '../scripts/'\n",
    "\n",
    "if new_path not in sys.path:\n",
    "    sys.path.append(new_path)\n",
    "    \n",
    "import target_com as com\n",
    "import shelve"
   ]
  },
  {
   "cell_type": "code",
   "execution_count": null,
   "metadata": {},
   "outputs": [],
   "source": [
    "if \"m4f\" not in dir():\n",
    "    global m4f\n",
    "    m4f = True # implementation switch, either use m4f or mupq/opt implementation\n",
    "if \"fisher\" not in dir():\n",
    "    global fisher\n",
    "    fisher = False\n",
    "if \"loop\" not in dir():\n",
    "    global loop\n",
    "    loop = 1 # values {0,1,2}\n",
    "\n",
    "if \"ff\" not in dir():\n",
    "    global ff\n",
    "    ff = f\"{'' if m4f else 'mupq_'}crypto_kem_bike{lvl}_{'fisher_yates' if fisher else 'set_bits'}_{loop}_{'m4f' if m4f else 'opt'}_fi\"\n",
    "\n",
    "print(ff)"
   ]
  },
  {
   "cell_type": "code",
   "execution_count": null,
   "metadata": {},
   "outputs": [],
   "source": [
    "# load previosly stored faulted keys\n",
    "with shelve.open(\"../traces/key_dump\") as data:\n",
    "\tkey_dump = data[ff]\n",
    "\t# key_dump = data[\"current\"]"
   ]
  },
  {
   "cell_type": "markdown",
   "metadata": {},
   "source": [
    "Start the firmware with `qemu` first.\n",
    "\n",
    "```qemu-system-arm -M mps2-an386 -nographic -serial pty -semihosting -kernel elf/crypto_kem_bikel1_mf4_fi.elf```\n",
    "\n",
    "This creates a pseudo terminal, bound to a file, which can be used as serial interface. This is usually located in `/dev/pts/`, the exact name is prompted and the variable `i` in the next block has to be set accordingly.\n",
    "If `i` is set the next block can be used to setup the Communication_Target object to comfortably interact with the target."
   ]
  },
  {
   "cell_type": "code",
   "execution_count": null,
   "metadata": {},
   "outputs": [],
   "source": [
    "!cd ../pqm4 && make -j4 PLATFORM=mps2-an386"
   ]
  },
  {
   "cell_type": "code",
   "execution_count": null,
   "metadata": {},
   "outputs": [],
   "source": [
    "lvl = 'l1'\n",
    "i = ?\n",
    "\n",
    "target = serial.Serial(f\"/dev/pts/{i}\", 38400)\n",
    "t_com = com.Communication_Target(target, lvl)"
   ]
  },
  {
   "cell_type": "code",
   "execution_count": null,
   "metadata": {},
   "outputs": [],
   "source": [
    "# choose a sub set of keys depending on the externel offset {eo}\n",
    "tmp = list()\n",
    "eo = 10\n",
    "\n",
    "for e in key_dump:\n",
    "    if e[0][2] == eo: tmp.append(e)\n",
    "key_dump = tmp"
   ]
  },
  {
   "cell_type": "code",
   "execution_count": null,
   "metadata": {},
   "outputs": [],
   "source": [
    "# compute DFR for keys\n",
    "runs = 1000\n",
    "\n",
    "target.read_all()\n",
    "\n",
    "dfr = list()\n",
    "print(len(key_dump))\n",
    "for i,key in enumerate(key_dump):\n",
    "    print(f\"start with key {i+1}\")\n",
    "    t_com.w_sk(key[1].mupq_key)\n",
    "    t_com.w_pk(key[1].pk)\n",
    "    df = 0\n",
    "    for _ in range(runs):\n",
    "        t_com.encaps()\t\n",
    "        t_com.decaps()\n",
    "\n",
    "        if not t_com.c_ss() == b\"\\x00\":\n",
    "            df = df + 1\n",
    "    try:\n",
    "        dfr.append(df/(runs))\n",
    "    except ZeroDivisionError: continue\n",
    "print(dfr)\n"
   ]
  },
  {
   "cell_type": "code",
   "execution_count": null,
   "metadata": {},
   "outputs": [],
   "source": [
    "# save faulted keys\n",
    "import shelve\n",
    "with shelve.open(\"../traces/key_dump\", writeback = True) as data:\n",
    "\tif ff in data.keys():\n",
    "\t\tdata[ff].extend(key_dump[20:])\n",
    "\telse: data[ff] = key_dump\n",
    "key_dump = list()"
   ]
  },
  {
   "cell_type": "code",
   "execution_count": null,
   "metadata": {},
   "outputs": [],
   "source": [
    "# export into file\n",
    "with open(\"/home/till/faulted_keys.txt\", 'a') as file:\n",
    "    for k in key_dump[:]:\n",
    "        key = k[1]\n",
    "        file.write(f\"{key.mupq_key.hex()}\\n\")"
   ]
  }
 ],
 "metadata": {
  "kernelspec": {
   "display_name": "cw",
   "language": "python",
   "name": "python3"
  },
  "language_info": {
   "codemirror_mode": {
    "name": "ipython",
    "version": 3
   },
   "file_extension": ".py",
   "mimetype": "text/x-python",
   "name": "python",
   "nbconvert_exporter": "python",
   "pygments_lexer": "ipython3",
   "version": "3.11.2"
  }
 },
 "nbformat": 4,
 "nbformat_minor": 2
}
