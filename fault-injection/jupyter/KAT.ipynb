{
 "cells": [
  {
   "cell_type": "code",
   "execution_count": null,
   "metadata": {},
   "outputs": [],
   "source": [
    "import time\n",
    "\n",
    "BUILDPLATFORM = 'mps2-an386'\n",
    "BUILDPLATFORM = 'stm32f4discovery'\n",
    "BUILDPLATFORM = 'cw308t-stm32f3'\n",
    "BUILDPLATFORM = 'cw308t-stm32f415'\n",
    "lvl = \"l1\"\n",
    "m4f = False # implementation switch, either use m4f or mupq implementation\n",
    "# for m4f only levels 1 and 3 are implemented\n",
    "\n",
    "ff = f\"{'' if m4f else 'mupq_'}crypto_kem_bike{lvl}_{'m4f' if m4f else 'opt'}_kat\"\n",
    "\n",
    "%run \"Setup_Disco_or_CWLITE.ipynb\""
   ]
  },
  {
   "cell_type": "code",
   "execution_count": null,
   "metadata": {},
   "outputs": [],
   "source": [
    "%run \"Build_Firmware.ipynb\""
   ]
  },
  {
   "cell_type": "code",
   "execution_count": null,
   "metadata": {
    "scrolled": true
   },
   "outputs": [],
   "source": [
    "start = time.time()\n",
    "%run \"Flash_Disco_CWLITE.ipynb\"\n",
    "end = time.time()\n",
    "print(end-start)"
   ]
  },
  {
   "cell_type": "code",
   "execution_count": null,
   "metadata": {
    "scrolled": true
   },
   "outputs": [],
   "source": [
    "# For physical targets\n",
    "\n",
    "import kat_bike as kat\n",
    "start = time.time()\n",
    "# actually run KAT\n",
    "# read the first N runs before comparing to the KAT\n",
    "N = 30\n",
    "\n",
    "ref_kat = kat.read_rsp(lvl)\n",
    "\n",
    "reboot_flush()\n",
    "target_kat = kat.read_target(target, lvl, N)\n",
    "\n",
    "check = True\n",
    "for k in target_kat.keys():\n",
    "\tif not ref_kat[k] == target_kat[k]:\n",
    "\t\tprint(f\"in round {ref_kat[k].count} reference and target do not match\")\n",
    "\t\tcheck = False\n",
    "\n",
    "print(f\"{len(target_kat)} of {N} KAT iterations were successfully transmitted.\")\n",
    "if check:\n",
    "\tprint(\"KAT was successful!\\nReference implementation and target generate same keys!\")\n",
    "else:\n",
    "    print(\"Error!\\nReference Implementation and target do not match.\")\n",
    "end = time.time()\n",
    "print(end-start)"
   ]
  },
  {
   "cell_type": "code",
   "execution_count": null,
   "metadata": {},
   "outputs": [],
   "source": [
    "# For mps2-an386 target\n",
    "\n",
    "import kat_bike as kat\n",
    "import subprocess as sp\n",
    "from os import remove\n",
    "\n",
    "sp.call(f\"qemu-system-arm -M mps2-an386 -nographic -semihosting -kernel ../pqm4/elf/{ff}.elf > tmp\", shell=True)\n",
    "\n",
    "rsp = kat.read_rsp(lvl)\n",
    "f=open(\"tmp\")\n",
    "mps2 = kat.read_target(f,lvl)\n",
    "f.close()\n",
    "remove(\"tmp\")\n",
    "\n",
    "check = True\n",
    "for k in mps2.keys():\n",
    "\tif not rsp[k] == mps2[k]:\n",
    "\t\tprint(f\"in round {rsp[k].count} reference and target do not match\")\n",
    "\t\tcheck = False\n",
    "\n",
    "if check:\n",
    "\tprint(\"KAT was successful!\\nReference implementation and target generate same keys!\")"
   ]
  }
 ],
 "metadata": {
  "kernelspec": {
   "display_name": "Python 3 (ipykernel)",
   "language": "python",
   "name": "python3"
  },
  "language_info": {
   "codemirror_mode": {
    "name": "ipython",
    "version": 3
   },
   "file_extension": ".py",
   "mimetype": "text/x-python",
   "name": "python",
   "nbconvert_exporter": "python",
   "pygments_lexer": "ipython3",
   "version": "3.11.2"
  },
  "vscode": {
   "interpreter": {
    "hash": "e7370f93d1d0cde622a1f8e1c04877d8463912d04d973331ad4851f04de6915a"
   }
  }
 },
 "nbformat": 4,
 "nbformat_minor": 2
}
