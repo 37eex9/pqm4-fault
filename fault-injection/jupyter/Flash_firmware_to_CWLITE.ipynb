{
 "cells": [
  {
   "cell_type": "markdown",
   "metadata": {},
   "source": [
    "NOT supposed to be run as standalone but to generate hex files and flash firmware to CWLITE from other notebooks. Expects the firmware file set as `ff`."
   ]
  },
  {
   "cell_type": "code",
   "execution_count": null,
   "metadata": {},
   "outputs": [],
   "source": [
    "%%bash\n",
    "# create ihex files from elf files\n",
    "cd ../pqm4\n",
    "\n",
    "mkdir -p hex\n",
    "#remove old files\n",
    "rm hex/*\n",
    "\n",
    "for ELF in $(find elf/ | grep \"\\.elf$\") \n",
    "do\n",
    "    HEX=${ELF%.elf}.hex\n",
    "    HEX=${HEX/elf/hex}\n",
    "    # copy to output format ihex, skip some sections (copied from other CW Makefile), define input and output file name\n",
    "    arm-none-eabi-objcopy -O ihex \\\n",
    "        -R .eeprom -R .fuse -R .lock -R .signature \\\n",
    "        $ELF $HEX\n",
    "    echo \" created $HEX\"\n",
    "done"
   ]
  },
  {
   "cell_type": "code",
   "execution_count": null,
   "metadata": {},
   "outputs": [],
   "source": [
    "fw_path = f\"../pqm4/hex/{ff}.hex\"\n",
    "print(f\"start flashing {fw_path}\")\n",
    "cw.program_target(scope, prog, fw_path)"
   ]
  }
 ],
 "metadata": {
  "kernelspec": {
   "display_name": "Python 3",
   "language": "python",
   "name": "python3"
  },
  "language_info": {
   "name": "python",
   "version": "3.10.6 (main, Aug 10 2022, 11:40:04) [GCC 11.3.0]"
  },
  "orig_nbformat": 4,
  "vscode": {
   "interpreter": {
    "hash": "e7370f93d1d0cde622a1f8e1c04877d8463912d04d973331ad4851f04de6915a"
   }
  }
 },
 "nbformat": 4,
 "nbformat_minor": 2
}
