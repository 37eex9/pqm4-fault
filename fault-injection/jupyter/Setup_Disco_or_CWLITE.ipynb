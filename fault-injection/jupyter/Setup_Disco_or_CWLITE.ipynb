{
 "cells": [
  {
   "cell_type": "markdown",
   "metadata": {},
   "source": [
    "NOT supposed to be run as standalone but to initialize targets from other notebooks. `lvl` and `BUILDPLATFORM` can be set by calling notebook."
   ]
  },
  {
   "cell_type": "code",
   "execution_count": null,
   "metadata": {},
   "outputs": [],
   "source": [
    "import serial\n",
    "import subprocess as sp\n",
    "import sys\n",
    "\n",
    "new_path = '../scripts/'\n",
    "\n",
    "if new_path not in sys.path:\n",
    "    sys.path.append(new_path)\n",
    "import target_com as com\n",
    "\n",
    "\"\"\"\n",
    "as levels \"l00\", \"l01\", \"l1\" and \"l3\" are available.\n",
    "Compare ../benchmarks/ to check which levels make sense for which board\n",
    "as platforms 'cw308t-stm32f3' and 'stm32f4discovery' are available\n",
    "\"\"\"\n",
    "try:\n",
    "\tBUILDPLATFORM\n",
    "except NameError:\n",
    "\tBUILDPLATFORM = 'cw308t-stm32f3'\n",
    "\n",
    "try:\n",
    "\tlvl\n",
    "except NameError:\n",
    "\tlvl=\"l00\"\n",
    "\n",
    "if \"disco\" in BUILDPLATFORM:\n",
    "\ttarget = serial.Serial(\"/dev/ttyUSB0\", 38400)\n",
    "elif \"cw308\" in BUILDPLATFORM or \"415rgt\" in BUILDPLATFORM:\n",
    "\tSCOPETYPE = 'OPENADC'\n",
    "\tPLATFORM = 'CWLITEARM'\n",
    "\tSS_VER = 'SS_VER_1_1'\n",
    "\t%run \"Setup_Generic.ipynb\"\n",
    "elif \"mps2\" in BUILDPLATFORM:\n",
    "    target = None\n",
    "    pass\n",
    "\n",
    "t_com = com.Communication_Target(target, lvl)\n",
    "\n",
    "\n",
    "def reboot_flush():   \n",
    "    if \"cw308t\" in BUILDPLATFORM:\n",
    "        scope.io.nrst = False\n",
    "        time.sleep(0.05)\n",
    "        scope.io.nrst = \"high_z\"\n",
    "        time.sleep(0.01)\n",
    "        #Flush garbage too\n",
    "        target.flush()\n",
    "        time.sleep(0.5)\n",
    "    elif \"disco\" in BUILDPLATFORM:\n",
    "        target.reset_output_buffer()\n",
    "        target.reset_input_buffer()\n",
    "        sp.call(\"st-flash reset\", shell=True)\n",
    "        target.reset_output_buffer()\n",
    "        target.reset_input_buffer()"
   ]
  }
 ],
 "metadata": {
  "kernelspec": {
   "display_name": "Python 3",
   "language": "python",
   "name": "python3"
  },
  "language_info": {
   "name": "python",
   "version": "3.10.6 (main, Nov  2 2022, 18:53:38) [GCC 11.3.0]"
  },
  "orig_nbformat": 4,
  "vscode": {
   "interpreter": {
    "hash": "916dbcbb3f70747c44a77c7bcd40155683ae19c65e1c03b4aa3499c5328201f1"
   }
  }
 },
 "nbformat": 4,
 "nbformat_minor": 2
}
