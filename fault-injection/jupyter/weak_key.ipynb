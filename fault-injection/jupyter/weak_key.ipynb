{
 "cells": [
  {
   "cell_type": "code",
   "execution_count": 2,
   "metadata": {},
   "outputs": [],
   "source": [
    "import sys\n",
    "\n",
    "new_path = '../scripts/'\n",
    "\n",
    "if new_path not in sys.path:\n",
    "    sys.path.append(new_path)\n",
    "# import target_com as com\n",
    "\n",
    "import kat_bike as kat\n",
    "import bike_key as bk\n",
    "from random import randrange\n",
    "\n",
    "samples = 100"
   ]
  },
  {
   "cell_type": "code",
   "execution_count": null,
   "metadata": {},
   "outputs": [],
   "source": [
    "from importlib import reload\n",
    "reload(bk)"
   ]
  },
  {
   "cell_type": "code",
   "execution_count": null,
   "metadata": {},
   "outputs": [],
   "source": [
    "samples = 10"
   ]
  },
  {
   "cell_type": "code",
   "execution_count": 3,
   "metadata": {},
   "outputs": [],
   "source": [
    "keys = list()\n",
    "for i in range(5, 28):\n",
    "    for _ in range(samples):\n",
    "        fault_h = 1\n",
    "        wlist_0 = list()\n",
    "        wlist_1 = list()\n",
    "        if fault_h == 1:\n",
    "            wlist_1 = [j for j in range(i)]\n",
    "        elif fault_h == 0:\n",
    "            wlist_0 = [j for j in range(i)]\n",
    "        while len(wlist_0) < kat.l1.d:\n",
    "            wlist_0.append(randrange(kat.l1.d+i,kat.l1.r_bits-kat.l1.d))\n",
    "        while len(wlist_1) < kat.l1.d:\n",
    "            wlist_1.append(randrange(kat.l1.d+i,kat.l1.r_bits-kat.l1.d))\n",
    "\n",
    "        sk = bk.gen_sk_from_wlist((wlist_0,wlist_1), kat.l1.r_bytes)\n",
    "        # pk = bk.calculate_pk_from_sk(sk, kat.l1)\n",
    "        sigma = b'\\x00' *32\n",
    "        key = bk.BIKE_key(sk + sigma, 'l1')\n",
    "        keys.append(key)"
   ]
  },
  {
   "cell_type": "code",
   "execution_count": 5,
   "metadata": {},
   "outputs": [],
   "source": [
    "# for k in keys:\n",
    "#     print(k.wlists_as_int[0])\n",
    "# export into file\n",
    "for i in range(len(keys)//samples):\n",
    "    with open(f\"../../keys_bs_{5+i}_h{fault_h}.txt\", 'w') as file:\n",
    "        for k in keys[i*samples:(i+1)*samples]:\n",
    "            file.write(f\"{k.mupq_key.hex()}\\n\")"
   ]
  }
 ],
 "metadata": {
  "kernelspec": {
   "display_name": "cw",
   "language": "python",
   "name": "python3"
  },
  "language_info": {
   "codemirror_mode": {
    "name": "ipython",
    "version": 3
   },
   "file_extension": ".py",
   "mimetype": "text/x-python",
   "name": "python",
   "nbconvert_exporter": "python",
   "pygments_lexer": "ipython3",
   "version": "3.11.2"
  }
 },
 "nbformat": 4,
 "nbformat_minor": 2
}
