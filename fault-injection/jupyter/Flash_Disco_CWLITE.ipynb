{
 "cells": [
  {
   "cell_type": "markdown",
   "metadata": {},
   "source": [
    "NOT supposed to be run as standalone but to flash firmware to either discovery board or CWLITE. Expects `BUILDPLATFORM` and firmware file `ff` to be set."
   ]
  },
  {
   "cell_type": "code",
   "execution_count": null,
   "metadata": {},
   "outputs": [],
   "source": [
    "if \"disco\" in BUILDPLATFORM:\n",
    "\tsp.call(\"st-flash write ../pqm4/bin/{}.bin 0x8000000\".format(ff), shell=True)\n",
    "else:\n",
    "\t%run \"Flash_firmware_to_CWLITE.ipynb\""
   ]
  }
 ],
 "metadata": {
  "kernelspec": {
   "display_name": "Python 3",
   "language": "python",
   "name": "python3"
  },
  "language_info": {
   "name": "python",
   "version": "3.10.6 (main, Aug 10 2022, 11:40:04) [GCC 11.3.0]"
  },
  "orig_nbformat": 4,
  "vscode": {
   "interpreter": {
    "hash": "e7370f93d1d0cde622a1f8e1c04877d8463912d04d973331ad4851f04de6915a"
   }
  }
 },
 "nbformat": 4,
 "nbformat_minor": 2
}
